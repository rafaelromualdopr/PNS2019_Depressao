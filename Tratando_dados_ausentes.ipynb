{
 "cells": [
  {
   "cell_type": "code",
   "execution_count": 1,
   "metadata": {},
   "outputs": [
    {
     "name": "stderr",
     "output_type": "stream",
     "text": [
      "C:\\Users\\rafae\\AppData\\Roaming\\Python\\Python311\\site-packages\\pandas\\core\\arrays\\masked.py:60: UserWarning: Pandas requires version '1.3.6' or newer of 'bottleneck' (version '1.3.5' currently installed).\n",
      "  from pandas.core import (\n"
     ]
    }
   ],
   "source": [
    "# Imports\n",
    "import pandas as pd\n",
    "import matplotlib.pyplot as plt\n",
    "from matplotlib import pyplot as plt\n",
    "from tabulate import tabulate\n",
    "import numpy as np\n",
    "import seaborn as sns\n",
    "import time"
   ]
  },
  {
   "cell_type": "code",
   "execution_count": 2,
   "metadata": {},
   "outputs": [],
   "source": [
    "#imports 2\n",
    "from sklearn.model_selection import train_test_split\n",
    "from sklearn.ensemble import RandomForestClassifier\n",
    "from sklearn.tree import DecisionTreeClassifier\n",
    "from imblearn.under_sampling import RandomUnderSampler\n",
    "from sklearn.metrics import precision_score\n",
    "from sklearn.metrics import confusion_matrix\n",
    "from sklearn.metrics import recall_score\n"
   ]
  },
  {
   "cell_type": "markdown",
   "metadata": {},
   "source": [
    "### Funções"
   ]
  },
  {
   "cell_type": "code",
   "execution_count": 3,
   "metadata": {},
   "outputs": [],
   "source": [
    "#FUNÇÃO PARA RECEBER INTERVALOS\n",
    "def definir_bins(*args):\n",
    "    \n",
    "    return bins\n",
    "\n",
    "#FUNÇÃO PARA RECEBER OS VALORES DAS COLUNAS\n",
    "def setar_valores_da_lista(*args):\n",
    "    \n",
    "    return valores\n",
    "\n",
    "#FUNÇÃO PARA SUBSTITUIR OS REGISTROS DAS COLUNAS E DIMINUIR O TOTAL DO \"value_counts\"\n",
    "def processar_coluna(df, nome_coluna):\n",
    "    df[nome_coluna] = df[nome_coluna].astype(float) \n",
    "    bins = definir_bins()  \n",
    "    valores = setar_valores_da_lista()\n",
    "    df[nome_coluna] = pd.cut(df[nome_coluna], bins=bins, labels=valores) \n",
    "    return df\n",
    "\n",
    "\n"
   ]
  },
  {
   "cell_type": "code",
   "execution_count": 5,
   "metadata": {},
   "outputs": [],
   "source": [
    "#FUNÇÃO DE SUBSTITUIÇÃO DE VALORES NULOS\n",
    "def valor_nulo_proporcao(df, nome_coluna):\n",
    "    # Substituindo os valores nulos de acordo com as proporções\n",
    "    null_indices = df[nome_coluna].isnull()\n",
    "    for value, proportion in replacement_values.items():\n",
    "        num_to_replace = int(null_indices.sum() * proportion)\n",
    "        if num_to_replace > 0:\n",
    "            replace_indices = np.random.choice(null_indices.index[null_indices], num_to_replace, replace=False)\n",
    "            df.loc[replace_indices, nome_coluna] = value\n",
    "    return df        "
   ]
  },
  {
   "cell_type": "code",
   "execution_count": 6,
   "metadata": {},
   "outputs": [],
   "source": [
    "#função para exibir o valor de valores nulos em cada coluna\n",
    "def exibir_colunas_com_valores_nulos(df):\n",
    "        \n",
    "    # Calcula o número de valores nulos em cada coluna\n",
    "    valores_nulos_por_coluna = df.isnull().sum()\n",
    "    \n",
    "    # Filtra as colunas com mais de 3000 valores nulos\n",
    "    colunas_com_valores_nulos = valores_nulos_por_coluna[valores_nulos_por_coluna > 1]\n",
    "    \n",
    "    # Exibe o total de valores nulos para as colunas que têm mais de 3000 valores nulos\n",
    "    print(\"Total de valores nulos para as colunas com valores nulos:\")\n",
    "    print(colunas_com_valores_nulos)\n",
    "\n"
   ]
  },
  {
   "cell_type": "code",
   "execution_count": 7,
   "metadata": {},
   "outputs": [],
   "source": [
    "def plotar_distribuicao_percentual(df, coluna):\n",
    "    # Calcula a distribuição percentual de cada valor na coluna especificada\n",
    "    distribuicao = df[coluna].value_counts(normalize=True) * 100\n",
    "    \n",
    "    # Plota o gráfico da distribuição percentual\n",
    "    distribuicao.plot(kind='bar')\n",
    "    plt.title(f'Distribuição Percentual da Coluna {coluna}')\n",
    "    plt.xlabel('Valores')\n",
    "    plt.ylabel('Porcentagem')\n",
    "    plt.show()"
   ]
  },
  {
   "cell_type": "markdown",
   "metadata": {},
   "source": [
    "### Importando a Base"
   ]
  },
  {
   "cell_type": "code",
   "execution_count": 2,
   "metadata": {},
   "outputs": [],
   "source": [
    "df = pd.read_csv(\"Bases/base_filtrada.csv\")"
   ]
  },
  {
   "cell_type": "code",
   "execution_count": 11,
   "metadata": {},
   "outputs": [],
   "source": [
    "df = df[df['Q092'].notna()]"
   ]
  },
  {
   "cell_type": "markdown",
   "metadata": {},
   "source": [
    "### Verificando quantidade de valores nulos"
   ]
  },
  {
   "cell_type": "code",
   "execution_count": 13,
   "metadata": {},
   "outputs": [
    {
     "name": "stdout",
     "output_type": "stream",
     "text": [
      "Total de valores nulos para as colunas com valores nulos:\n",
      "E01602    9272\n",
      "E017      8867\n",
      "D00901    4561\n",
      "P00104     747\n",
      "P00404     747\n",
      "dtype: int64\n"
     ]
    }
   ],
   "source": [
    "exibir_colunas_com_valores_nulos(df)"
   ]
  },
  {
   "cell_type": "code",
   "execution_count": 14,
   "metadata": {},
   "outputs": [
    {
     "data": {
      "text/plain": [
       "120000.0"
      ]
     },
     "execution_count": 14,
     "metadata": {},
     "output_type": "execute_result"
    }
   ],
   "source": [
    "df['E01602'].max()"
   ]
  },
  {
   "cell_type": "code",
   "execution_count": null,
   "metadata": {},
   "outputs": [
    {
     "data": {
      "text/plain": [
       "E01602\n",
       "998.0      294\n",
       "2000.0     200\n",
       "1500.0     191\n",
       "1000.0     179\n",
       "1200.0     178\n",
       "          ... \n",
       "1384.0       1\n",
       "22000.0      1\n",
       "2380.0       1\n",
       "2950.0       1\n",
       "1152.0       1\n",
       "Name: count, Length: 312, dtype: int64"
      ]
     },
     "execution_count": 13,
     "metadata": {},
     "output_type": "execute_result"
    }
   ],
   "source": [
    "df['E01602'].value_counts()"
   ]
  },
  {
   "cell_type": "markdown",
   "metadata": {},
   "source": [
    "### Olhando graficamente colunas especificas"
   ]
  },
  {
   "cell_type": "code",
   "execution_count": 16,
   "metadata": {},
   "outputs": [],
   "source": [
    "valores_peso = df['P00104'].value_counts()"
   ]
  },
  {
   "cell_type": "code",
   "execution_count": 17,
   "metadata": {},
   "outputs": [],
   "source": [
    "valores_altura = df['P00404'].value_counts()"
   ]
  },
  {
   "cell_type": "code",
   "execution_count": 19,
   "metadata": {},
   "outputs": [
    {
     "data": {
      "image/png": "[encoded data removed]",
      "text/plain": [
       "<Figure size 1000x600 with 1 Axes>"
      ]
     },
     "metadata": {},
     "output_type": "display_data"
    }
   ],
   "source": [
    "# Contar valores em 'E01602'\n",
    "value_counts = df['E01602'].value_counts()\n",
    "\n"
   ]
  },
  {
   "cell_type": "code",
   "execution_count": 22,
   "metadata": {},
   "outputs": [
    {
     "data": {
      "image/png": "[encoded data removed]",
      "text/plain": [
       "<Figure size 1000x600 with 1 Axes>"
      ]
     },
     "metadata": {},
     "output_type": "display_data"
    }
   ],
   "source": [
    "# Criar um boxplot para verificar outliers\n",
    "plt.figure(figsize=(10, 6))\n",
    "plt.boxplot(valores_peso, vert=False)\n",
    "\n",
    "plt.xlabel('Contagem de Valores')\n",
    "plt.title('Boxplot da Contagem de Valores na ALTURA')\n",
    "plt.show()"
   ]
  },
  {
   "cell_type": "code",
   "execution_count": null,
   "metadata": {},
   "outputs": [
    {
     "data": {
      "image/png": "[encoded data removed]",
      "text/plain": [
       "<Figure size 1000x600 with 1 Axes>"
      ]
     },
     "metadata": {},
     "output_type": "display_data"
    }
   ],
   "source": [
    "# Gráfico de Dispersão\n",
    "plt.figure(figsize=(10, 6))\n",
    "plt.scatter(value_counts.index, value_counts.values)\n",
    "\n",
    "plt.xlabel('Categoria')\n",
    "plt.ylabel('Contagem de Valores')\n",
    "plt.title('Gráfico de Dispersão da Contagem de Valores na Coluna E01602')\n",
    "\n",
    "# Adiciona linhas de grade para melhor visualização\n",
    "plt.grid(True)\n",
    "\n",
    "plt.show()"
   ]
  },
  {
   "cell_type": "code",
   "execution_count": null,
   "metadata": {},
   "outputs": [
    {
     "data": {
      "image/png": "[encoded data removed]",
      "text/plain": [
       "<Figure size 1000x600 with 1 Axes>"
      ]
     },
     "metadata": {},
     "output_type": "display_data"
    }
   ],
   "source": [
    "# Gráfico de Dispersão\n",
    "plt.figure(figsize=(10, 6))\n",
    "plt.scatter(valores_peso.index, valores_peso.values)\n",
    "\n",
    "plt.xlabel('Categoria')\n",
    "plt.ylabel('Contagem de Valores')\n",
    "plt.title('Gráfico de Dispersão da Contagem de Valores')\n",
    "\n",
    "# Adiciona linhas de grade para melhor visualização\n",
    "plt.grid(True)\n",
    "\n",
    "plt.show()"
   ]
  },
  {
   "cell_type": "code",
   "execution_count": null,
   "metadata": {},
   "outputs": [
    {
     "data": {
      "image/png": "[encoded data removed]",
      "text/plain": [
       "<Figure size 1000x600 with 1 Axes>"
      ]
     },
     "metadata": {},
     "output_type": "display_data"
    }
   ],
   "source": [
    "# Gráfico de Dispersão\n",
    "plt.figure(figsize=(10, 6))\n",
    "plt.scatter(valores_altura.index, valores_altura.values)\n",
    "\n",
    "plt.xlabel('Categoria')\n",
    "plt.ylabel('Contagem de Valores')\n",
    "plt.title('Gráfico de Dispersão da Contagem de Valores')\n",
    "\n",
    "# Adiciona linhas de grade para melhor visualização\n",
    "plt.grid(True)\n",
    "\n",
    "plt.show()"
   ]
  },
  {
   "cell_type": "markdown",
   "metadata": {},
   "source": [
    "### Tratando as colunas especificas com dados nulos"
   ]
  },
  {
   "cell_type": "code",
   "execution_count": 34,
   "metadata": {},
   "outputs": [
    {
     "name": "stdout",
     "output_type": "stream",
     "text": [
      "Desvio Padrão (NumPy): 2644.93\n"
     ]
    }
   ],
   "source": [
    "# Usando NumPy\n",
    "std_dev_numpy = np.std(df['E01602'], ddof=1)  # ddof=1 para amostra\n",
    "print(f\"Desvio Padrão (NumPy): {std_dev_numpy:.2f}\")"
   ]
  },
  {
   "cell_type": "code",
   "execution_count": 24,
   "metadata": {},
   "outputs": [],
   "source": [
    "df.drop(columns=['Unnamed: 0'], inplace=True)"
   ]
  },
  {
   "cell_type": "code",
   "execution_count": 26,
   "metadata": {},
   "outputs": [
    {
     "name": "stdout",
     "output_type": "stream",
     "text": [
      "Total de valores nulos para as colunas com valores nulos:\n",
      "E01602    9272\n",
      "E017      8867\n",
      "D00901    4561\n",
      "P00104     747\n",
      "P00404     747\n",
      "dtype: int64\n"
     ]
    }
   ],
   "source": [
    "#identificando dados faltantes\n",
    "exibir_colunas_com_valores_nulos(df)"
   ]
  },
  {
   "cell_type": "code",
   "execution_count": 33,
   "metadata": {},
   "outputs": [
    {
     "data": {
      "text/plain": [
       "0    998.0\n",
       "Name: E01602, dtype: float64"
      ]
     },
     "execution_count": 33,
     "metadata": {},
     "output_type": "execute_result"
    }
   ],
   "source": [
    "df['E01602'].mode()"
   ]
  },
  {
   "cell_type": "code",
   "execution_count": 35,
   "metadata": {},
   "outputs": [
    {
     "data": {
      "text/plain": [
       "E01602\n",
       "998.0      2590\n",
       "1500.0     1507\n",
       "2000.0     1479\n",
       "1200.0     1473\n",
       "1000.0     1451\n",
       "           ... \n",
       "27303.0       1\n",
       "903.0         1\n",
       "10400.0       1\n",
       "2094.0        1\n",
       "1318.0        1\n",
       "Name: count, Length: 884, dtype: int64"
      ]
     },
     "execution_count": 35,
     "metadata": {},
     "output_type": "execute_result"
    }
   ],
   "source": [
    "df['E01602'].value_counts()"
   ]
  },
  {
   "cell_type": "code",
   "execution_count": 29,
   "metadata": {},
   "outputs": [
    {
     "name": "stdout",
     "output_type": "stream",
     "text": [
      "Total de valores nulos para as colunas com valores nulos:\n",
      "E01602    9272\n",
      "E017      8867\n",
      "D00901    4561\n",
      "P00104     747\n",
      "P00404     747\n",
      "dtype: int64\n"
     ]
    }
   ],
   "source": [
    "exibir_colunas_com_valores_nulos(df)"
   ]
  },
  {
   "cell_type": "code",
   "execution_count": 30,
   "metadata": {},
   "outputs": [
    {
     "data": {
      "text/plain": [
       "(33321, 48)"
      ]
     },
     "execution_count": 30,
     "metadata": {},
     "output_type": "execute_result"
    }
   ],
   "source": [
    "df.shape"
   ]
  },
  {
   "cell_type": "markdown",
   "metadata": {},
   "source": [
    "#### Coluna Salario"
   ]
  },
  {
   "cell_type": "code",
   "execution_count": 42,
   "metadata": {},
   "outputs": [
    {
     "name": "stdout",
     "output_type": "stream",
     "text": [
      "E01602\n",
      "998.0      4039\n",
      "1500.0     3719\n",
      "1200.0     3224\n",
      "3000.0     2669\n",
      "2000.0     2582\n",
      "           ... \n",
      "27303.0       1\n",
      "903.0         1\n",
      "10400.0       1\n",
      "2094.0        1\n",
      "1318.0        1\n",
      "Name: count, Length: 884, dtype: int64\n",
      "Total de valores nulos para as colunas com valores nulos:\n",
      "E017      8867\n",
      "D00901    4561\n",
      "P00104     747\n",
      "P00404     747\n",
      "dtype: int64\n"
     ]
    }
   ],
   "source": [
    "# Definindo os valores de substituição e suas proporções\n",
    "#COLUNA ESCOLARIDADE\n",
    "replacement_values = {2000: 0.2, 998: 0.2, 1200: 0.2, 1500: 0.2, 1000: 0.2}\n",
    " \n",
    "valor_nulo_proporcao(df, 'E01602')\n",
    "\n",
    "print(df['E01602'].value_counts())\n",
    "\n",
    "exibir_colunas_com_valores_nulos(df)"
   ]
  },
  {
   "cell_type": "markdown",
   "metadata": {},
   "source": [
    "#### Coluna Horas trabalhadas"
   ]
  },
  {
   "cell_type": "code",
   "execution_count": 43,
   "metadata": {},
   "outputs": [
    {
     "data": {
      "text/plain": [
       "E017\n",
       "40.0     6927\n",
       "44.0     4489\n",
       "48.0     1984\n",
       "30.0     1710\n",
       "20.0     1382\n",
       "         ... \n",
       "88.0        1\n",
       "95.0        1\n",
       "106.0       1\n",
       "92.0        1\n",
       "82.0        1\n",
       "Name: count, Length: 97, dtype: int64"
      ]
     },
     "execution_count": 43,
     "metadata": {},
     "output_type": "execute_result"
    }
   ],
   "source": [
    "df['E017'].value_counts()"
   ]
  },
  {
   "cell_type": "code",
   "execution_count": 48,
   "metadata": {},
   "outputs": [
    {
     "name": "stdout",
     "output_type": "stream",
     "text": [
      "E017\n",
      "40.0     9375\n",
      "30.0     5444\n",
      "48.0     4669\n",
      "44.0     4489\n",
      "20.0     1382\n",
      "         ... \n",
      "88.0        1\n",
      "95.0        1\n",
      "106.0       1\n",
      "92.0        1\n",
      "82.0        1\n",
      "Name: count, Length: 97, dtype: int64\n",
      "Total de valores nulos para as colunas com valores nulos:\n",
      "D00901    4561\n",
      "P00104     747\n",
      "P00404     747\n",
      "dtype: int64\n"
     ]
    }
   ],
   "source": [
    "# Definindo os valores de substituição e suas proporções\n",
    "#COLUNA ESCOLARIDADE\n",
    "replacement_values = {40:0.4, 48:0.3, 30:0.3}\n",
    " \n",
    "valor_nulo_proporcao(df, 'E017')\n",
    "\n",
    "print(df['E017'].value_counts())\n",
    "exibir_colunas_com_valores_nulos(df)"
   ]
  },
  {
   "cell_type": "code",
   "execution_count": 58,
   "metadata": {},
   "outputs": [
    {
     "name": "stdout",
     "output_type": "stream",
     "text": [
      "Total de valores nulos para as colunas com valores nulos:\n",
      "P00104    747\n",
      "P00404    747\n",
      "dtype: int64\n"
     ]
    }
   ],
   "source": [
    "exibir_colunas_com_valores_nulos(df)"
   ]
  },
  {
   "cell_type": "markdown",
   "metadata": {},
   "source": [
    "### Coluna Nivel Educação"
   ]
  },
  {
   "cell_type": "code",
   "execution_count": 57,
   "metadata": {},
   "outputs": [
    {
     "name": "stdout",
     "output_type": "stream",
     "text": [
      "D00901\n",
      "10.0    15160\n",
      "7.0      8785\n",
      "12.0     6831\n",
      "13.0     1151\n",
      "11.0      633\n",
      "8.0       303\n",
      "14.0      189\n",
      "3.0       104\n",
      "15.0       67\n",
      "4.0        53\n",
      "2.0        40\n",
      "1.0         5\n",
      "Name: count, dtype: int64\n"
     ]
    }
   ],
   "source": [
    "# Definindo os valores de substituição e suas proporções\n",
    "#COLUNA ESCOLARIDADE\n",
    "replacement_values = {7:0.3, 10:0.33, 12:0.3}\n",
    " \n",
    "valor_nulo_proporcao(df, 'D00901')\n",
    "\n",
    "print(df['D00901'].value_counts())"
   ]
  },
  {
   "cell_type": "markdown",
   "metadata": {},
   "source": [
    "#### Coluna Peso E altura"
   ]
  },
  {
   "cell_type": "code",
   "execution_count": 64,
   "metadata": {},
   "outputs": [
    {
     "data": {
      "text/plain": [
       "P00104\n",
       "70.0     1280\n",
       "65.0     1272\n",
       "60.0     1164\n",
       "75.0     1117\n",
       "72.0     1064\n",
       "         ... \n",
       "148.0       1\n",
       "31.0        1\n",
       "144.0       1\n",
       "32.0        1\n",
       "153.0       1\n",
       "Name: count, Length: 120, dtype: int64"
      ]
     },
     "execution_count": 64,
     "metadata": {},
     "output_type": "execute_result"
    }
   ],
   "source": [
    "df['P00104'].value_counts()"
   ]
  },
  {
   "cell_type": "code",
   "execution_count": 63,
   "metadata": {},
   "outputs": [
    {
     "name": "stdout",
     "output_type": "stream",
     "text": [
      "Desvio Padrão (NumPy): 15.67\n"
     ]
    }
   ],
   "source": [
    "# Usando NumPy\n",
    "std_dev_numpy = np.std(df['P00104'], ddof=1)  # ddof=1 para amostra\n",
    "print(f\"Desvio Padrão (NumPy): {std_dev_numpy:.2f}\")"
   ]
  },
  {
   "cell_type": "code",
   "execution_count": 62,
   "metadata": {},
   "outputs": [
    {
     "data": {
      "text/plain": [
       "73.02965555350893"
      ]
     },
     "execution_count": 62,
     "metadata": {},
     "output_type": "execute_result"
    }
   ],
   "source": [
    "df['P00104'].mean()"
   ]
  },
  {
   "cell_type": "code",
   "execution_count": 71,
   "metadata": {},
   "outputs": [
    {
     "name": "stdout",
     "output_type": "stream",
     "text": [
      "Total de valores nulos para as colunas com valores nulos:\n",
      "P00404    747\n",
      "dtype: int64\n"
     ]
    }
   ],
   "source": [
    "\n",
    "exibir_colunas_com_valores_nulos(df)"
   ]
  },
  {
   "cell_type": "code",
   "execution_count": 70,
   "metadata": {},
   "outputs": [
    {
     "name": "stdout",
     "output_type": "stream",
     "text": [
      "P00104\n",
      "70.0     1280\n",
      "65.0     1272\n",
      "60.0     1222\n",
      "75.0     1117\n",
      "67.0     1091\n",
      "         ... \n",
      "148.0       1\n",
      "31.0        1\n",
      "144.0       1\n",
      "32.0        1\n",
      "153.0       1\n",
      "Name: count, Length: 120, dtype: int64\n"
     ]
    }
   ],
   "source": [
    "# Definindo os valores de substituição e suas proporções\n",
    "#COLUNA ESCOLARIDADE\n",
    "replacement_values = {73: 0.4, 83: 0.3, 67: 0.3}\n",
    " \n",
    "valor_nulo_proporcao(df, 'P00104')\n",
    "\n",
    "print(df['P00104'].value_counts())"
   ]
  },
  {
   "cell_type": "code",
   "execution_count": 72,
   "metadata": {},
   "outputs": [
    {
     "data": {
      "text/plain": [
       "P00404\n",
       "165.0    2436\n",
       "170.0    2167\n",
       "160.0    2156\n",
       "175.0    1500\n",
       "168.0    1269\n",
       "         ... \n",
       "201.0       2\n",
       "132.0       1\n",
       "202.0       1\n",
       "133.0       1\n",
       "206.0       1\n",
       "Name: count, Length: 73, dtype: int64"
      ]
     },
     "execution_count": 72,
     "metadata": {},
     "output_type": "execute_result"
    }
   ],
   "source": [
    "df['P00404'].value_counts()"
   ]
  },
  {
   "cell_type": "code",
   "execution_count": 73,
   "metadata": {},
   "outputs": [
    {
     "name": "stdout",
     "output_type": "stream",
     "text": [
      "Desvio Padrão (NumPy): 9.77\n"
     ]
    }
   ],
   "source": [
    "# Usando NumPy\n",
    "std_dev_numpy = np.std(df['P00404'], ddof=1)  # ddof=1 para amostra\n",
    "print(f\"Desvio Padrão (NumPy): {std_dev_numpy:.2f}\")"
   ]
  },
  {
   "cell_type": "code",
   "execution_count": 74,
   "metadata": {},
   "outputs": [
    {
     "data": {
      "text/plain": [
       "166.69721250076748"
      ]
     },
     "execution_count": 74,
     "metadata": {},
     "output_type": "execute_result"
    }
   ],
   "source": [
    "df['P00404'].mean()"
   ]
  },
  {
   "cell_type": "code",
   "execution_count": 75,
   "metadata": {},
   "outputs": [
    {
     "data": {
      "text/plain": [
       "166.0"
      ]
     },
     "execution_count": 75,
     "metadata": {},
     "output_type": "execute_result"
    }
   ],
   "source": [
    "df['P00404'].median()"
   ]
  },
  {
   "cell_type": "code",
   "execution_count": 80,
   "metadata": {},
   "outputs": [
    {
     "name": "stdout",
     "output_type": "stream",
     "text": [
      "P00404\n",
      "160.0    2446\n",
      "165.0    2436\n",
      "170.0    2167\n",
      "175.0    1695\n",
      "168.0    1342\n",
      "         ... \n",
      "201.0       2\n",
      "132.0       1\n",
      "202.0       1\n",
      "133.0       1\n",
      "206.0       1\n",
      "Name: count, Length: 73, dtype: int64\n"
     ]
    }
   ],
   "source": [
    "# Definindo os valores de substituição e suas proporções\n",
    "#COLUNA ESCOLARIDADE\n",
    "replacement_values = {166: 0.4, 175: 0.3, 160: 0.3}\n",
    " \n",
    "valor_nulo_proporcao(df, 'P00404')\n",
    "\n",
    "print(df['P00404'].value_counts())"
   ]
  },
  {
   "cell_type": "code",
   "execution_count": 81,
   "metadata": {},
   "outputs": [
    {
     "name": "stdout",
     "output_type": "stream",
     "text": [
      "Total de valores nulos para as colunas com valores nulos:\n",
      "Series([], dtype: int64)\n"
     ]
    }
   ],
   "source": [
    "exibir_colunas_com_valores_nulos(df)"
   ]
  },
  {
   "cell_type": "code",
   "execution_count": 82,
   "metadata": {},
   "outputs": [],
   "source": [
    "df.to_csv(\"base_nao_nula.csv\")"
   ]
  },
  {
   "cell_type": "code",
   "execution_count": null,
   "metadata": {},
   "outputs": [],
   "source": []
  }
 ],
 "metadata": {
  "kernelspec": {
   "display_name": "base",
   "language": "python",
   "name": "python3"
  },
  "language_info": {
   "codemirror_mode": {
    "name": "ipython",
    "version": 3
   },
   "file_extension": ".py",
   "mimetype": "text/x-python",
   "name": "python",
   "nbconvert_exporter": "python",
   "pygments_lexer": "ipython3",
   "version": "3.11.5"
  }
 },
 "nbformat": 4,
 "nbformat_minor": 2
}

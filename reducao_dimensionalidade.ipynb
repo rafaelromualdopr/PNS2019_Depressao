{
 "cells": [
  {
   "cell_type": "code",
   "execution_count": 1,
   "metadata": {},
   "outputs": [
    {
     "name": "stderr",
     "output_type": "stream",
     "text": [
      "C:\\Users\\rafae\\AppData\\Roaming\\Python\\Python311\\site-packages\\pandas\\core\\arrays\\masked.py:60: UserWarning: Pandas requires version '1.3.6' or newer of 'bottleneck' (version '1.3.5' currently installed).\n",
      "  from pandas.core import (\n"
     ]
    }
   ],
   "source": [
    "# Imports\n",
    "import pandas as pd\n",
    "import matplotlib.pyplot as plt\n",
    "from matplotlib import pyplot as plt\n",
    "from tabulate import tabulate\n",
    "import numpy as np\n",
    "import seaborn as sns\n",
    "import time"
   ]
  },
  {
   "cell_type": "code",
   "execution_count": 2,
   "metadata": {},
   "outputs": [],
   "source": [
    "#imports 2\n",
    "from sklearn.model_selection import train_test_split\n",
    "from sklearn.ensemble import RandomForestClassifier\n",
    "from sklearn.tree import DecisionTreeClassifier\n",
    "from imblearn.under_sampling import RandomUnderSampler\n",
    "from sklearn.metrics import precision_score\n",
    "from sklearn.metrics import confusion_matrix\n",
    "from sklearn.metrics import recall_score\n"
   ]
  },
  {
   "cell_type": "code",
   "execution_count": 3,
   "metadata": {},
   "outputs": [],
   "source": [
    "df = pd.read_csv(\"Bases/base_sem_outliers.csv\")\n",
    "df.drop(columns=['Unnamed: 0'], inplace=True)\n",
    "df.drop(columns=['N00101'], inplace = True)\n",
    "df.drop(columns=['VDF001'], inplace=True)\n",
    "df.drop(columns=['A002010'], inplace=True)\n",
    "df.drop(columns=['A003010'], inplace=True)\n",
    "df.drop(columns=['A004010'], inplace=True)\n",
    "df.drop(columns=['M01501'], inplace=True)\n",
    "df.drop(columns=['P02001'], inplace=True)"
   ]
  },
  {
   "cell_type": "code",
   "execution_count": 4,
   "metadata": {},
   "outputs": [
    {
     "data": {
      "text/plain": [
       "Index(['C006', 'M01401', 'E01602', 'E017', 'D00901', 'Q092', 'A001', 'J007',\n",
       "       'Q11006', 'P034', 'P027', 'J01101', 'J014', 'N010', 'N011', 'N012',\n",
       "       'N013', 'N014', 'N015', 'N016', 'N017', 'N018', 'J001', 'J00101',\n",
       "       'J002', 'P006', 'P00901', 'P01101', 'P013', 'P015', 'P01601', 'P018',\n",
       "       'P02002', 'P023', 'P02501', 'P02602', 'P02601', 'E001', 'P050', 'IMC'],\n",
       "      dtype='object')"
      ]
     },
     "execution_count": 4,
     "metadata": {},
     "output_type": "execute_result"
    }
   ],
   "source": [
    "df.columns"
   ]
  },
  {
   "cell_type": "markdown",
   "metadata": {},
   "source": [
    "### Função para agrupar as colunas"
   ]
  },
  {
   "cell_type": "markdown",
   "metadata": {},
   "source": [
    "###### A função analisa as colunas agrupadas e para o valor para a nova coluna sera a moda do registro."
   ]
  },
  {
   "cell_type": "code",
   "execution_count": 5,
   "metadata": {},
   "outputs": [],
   "source": [
    "# Função para encontrar a moda de cada linha e manter apenas uma resposta\n",
    "def mais_comum(row):\n",
    "    moda = row.mode().iloc[0]  # Obtém a moda da linha\n",
    "    return moda"
   ]
  },
  {
   "cell_type": "code",
   "execution_count": 6,
   "metadata": {},
   "outputs": [
    {
     "name": "stdout",
     "output_type": "stream",
     "text": [
      "Index(['C006', 'M01401', 'E01602', 'E017', 'D00901', 'Q092', 'A001', 'Q11006',\n",
      "       'P034', 'P027', 'J01101', 'J014', 'N010', 'N011', 'N012', 'N013',\n",
      "       'N014', 'N015', 'N016', 'N017', 'N018', 'J001', 'J00101', 'J002',\n",
      "       'P006', 'P00901', 'P01101', 'P013', 'P015', 'P01601', 'P018', 'P02002',\n",
      "       'P023', 'P02501', 'P02602', 'P02601', 'E001', 'P050', 'IMC',\n",
      "       'DOENCAS_CRONICAS'],\n",
      "      dtype='object')\n"
     ]
    }
   ],
   "source": [
    "# Colunas doença mental\n",
    "colunas_resposta = ['J007']\n",
    "df_resposta = df[colunas_resposta]\n",
    "# Aplicando a função a cada linha do Df das respostas\n",
    "df['DOENCAS_CRONICAS'] = df_resposta.apply(mais_comum, axis=1)\n",
    "# Removendo as colunas antigas\n",
    "df = df.drop(colunas_resposta, axis=1)\n",
    "\n",
    "print(df.columns)"
   ]
  },
  {
   "cell_type": "code",
   "execution_count": 7,
   "metadata": {},
   "outputs": [
    {
     "name": "stdout",
     "output_type": "stream",
     "text": [
      "Index(['C006', 'M01401', 'E01602', 'E017', 'D00901', 'Q092', 'A001', 'Q11006',\n",
      "       'P034', 'P027', 'J01101', 'J014', 'J001', 'J00101', 'J002', 'P006',\n",
      "       'P00901', 'P01101', 'P013', 'P015', 'P01601', 'P018', 'P02002', 'P023',\n",
      "       'P02501', 'P02602', 'P02601', 'E001', 'P050', 'IMC', 'DOENCAS_CRONICAS',\n",
      "       'PENSAMENTOS_NEGATIVOS'],\n",
      "      dtype='object')\n"
     ]
    }
   ],
   "source": [
    "# Colunas pensamentos e sensações negativas\n",
    "colunas_resposta = ['N010', 'N011',\n",
    "       'N012', 'N013', 'N014', 'N015', 'N016', 'N017', 'N018']\n",
    "df_resposta = df[colunas_resposta]\n",
    "# Aplicando a função a cada linha do DataFrame das respostas\n",
    "df['PENSAMENTOS_NEGATIVOS'] = df_resposta.apply(mais_comum, axis=1)\n",
    "# Removendo as colunas antigas\n",
    "df = df.drop(colunas_resposta, axis=1)\n",
    "\n",
    "print(df.columns)"
   ]
  },
  {
   "cell_type": "code",
   "execution_count": 8,
   "metadata": {},
   "outputs": [
    {
     "name": "stdout",
     "output_type": "stream",
     "text": [
      "Index(['C006', 'M01401', 'E01602', 'E017', 'D00901', 'Q092', 'A001', 'Q11006',\n",
      "       'P034', 'P027', 'J01101', 'J014', 'J002', 'P006', 'P00901', 'P01101',\n",
      "       'P013', 'P015', 'P01601', 'P018', 'P02002', 'P023', 'P02501', 'P02602',\n",
      "       'P02601', 'E001', 'P050', 'IMC', 'DOENCAS_CRONICAS',\n",
      "       'PENSAMENTOS_NEGATIVOS', 'ESTADO_SAUDE'],\n",
      "      dtype='object')\n"
     ]
    }
   ],
   "source": [
    "# Colunas ESTADO_SAUDE\n",
    "colunas_resposta = ['J001','J00101']\n",
    "df_resposta = df[colunas_resposta]\n",
    "# Aplicando a função a cada linha do DataFrame das respostas\n",
    "df['ESTADO_SAUDE'] = df_resposta.apply(mais_comum, axis=1)\n",
    "# Removendo as colunas antigas\n",
    "df = df.drop(colunas_resposta, axis=1)\n",
    "\n",
    "print(df.columns)"
   ]
  },
  {
   "cell_type": "code",
   "execution_count": 9,
   "metadata": {},
   "outputs": [
    {
     "name": "stdout",
     "output_type": "stream",
     "text": [
      "Index(['C006', 'M01401', 'E01602', 'E017', 'D00901', 'Q092', 'A001', 'Q11006',\n",
      "       'P034', 'P027', 'J01101', 'J014', 'J002', 'P01101', 'P013', 'P015',\n",
      "       'P02002', 'P02501', 'P02602', 'P02601', 'E001', 'P050', 'IMC',\n",
      "       'DOENCAS_CRONICAS', 'PENSAMENTOS_NEGATIVOS', 'ESTADO_SAUDE',\n",
      "       'ALIMENTOS_SAUDAVEIS'],\n",
      "      dtype='object')\n"
     ]
    }
   ],
   "source": [
    "# Colunas ALIMENTOS SAUDAVEIS\n",
    "colunas_resposta = ['P018','P006','P01601','P00901','P023']\n",
    "df_resposta = df[colunas_resposta]\n",
    "# Aplicando a função a cada linha do DataFrame das respostas\n",
    "df['ALIMENTOS_SAUDAVEIS'] = df_resposta.apply(mais_comum, axis=1)\n",
    "# Removendo as colunas antigas\n",
    "df = df.drop(colunas_resposta, axis=1)\n",
    "\n",
    "print(df.columns)"
   ]
  },
  {
   "cell_type": "code",
   "execution_count": 10,
   "metadata": {},
   "outputs": [
    {
     "name": "stdout",
     "output_type": "stream",
     "text": [
      "Index(['C006', 'M01401', 'E01602', 'E017', 'D00901', 'Q092', 'A001', 'Q11006',\n",
      "       'P034', 'P027', 'J01101', 'J014', 'J002', 'P02002', 'P02501', 'P02602',\n",
      "       'P02601', 'E001', 'P050', 'IMC', 'DOENCAS_CRONICAS',\n",
      "       'PENSAMENTOS_NEGATIVOS', 'ESTADO_SAUDE', 'ALIMENTOS_SAUDAVEIS',\n",
      "       'CARNES'],\n",
      "      dtype='object')\n"
     ]
    }
   ],
   "source": [
    "# Colunas CARNES\n",
    "colunas_resposta = ['P01101','P015','P013']\n",
    "df_resposta = df[colunas_resposta]\n",
    "# Aplicando a função a cada linha do DataFrame das respostas\n",
    "df['CARNES'] = df_resposta.apply(mais_comum, axis=1)\n",
    "# Removendo as colunas antigas\n",
    "df = df.drop(colunas_resposta, axis=1)\n",
    "\n",
    "print(df.columns)"
   ]
  },
  {
   "cell_type": "code",
   "execution_count": 11,
   "metadata": {},
   "outputs": [],
   "source": [
    "# Colunas ALIMENTOS PREJUDICIAIS\n",
    "colunas_resposta = ['P02002','P02501','P02602','P02601']\n",
    "df_resposta = df[colunas_resposta]\n",
    "# Aplicando a função a cada linha do DataFrame das respostas\n",
    "df['ALIMENTOS_PREJUDICIAIS'] = df_resposta.apply(mais_comum, axis=1)\n",
    "# Removendo as colunas antigas\n",
    "df = df.drop(colunas_resposta, axis=1)\n"
   ]
  },
  {
   "cell_type": "code",
   "execution_count": 12,
   "metadata": {},
   "outputs": [],
   "source": [
    "# Colunas PROCURA MEDICA\n",
    "colunas_resposta = ['J01101','J014']\n",
    "df_resposta = df[colunas_resposta]\n",
    "# Aplicando a função a cada linha do DataFrame das respostas\n",
    "df['PROCURA_MEDICA'] = df_resposta.apply(mais_comum, axis=1)\n",
    "# Removendo as colunas antigas\n",
    "df = df.drop(colunas_resposta, axis=1)"
   ]
  },
  {
   "cell_type": "code",
   "execution_count": 13,
   "metadata": {},
   "outputs": [],
   "source": [
    "# Renomeando as colunas\n",
    "df.rename(columns={'J002': 'NAO_TRAB_MTV_SAUDE'}, inplace=True)\n",
    "df.rename(columns={'C006': 'SEXO'}, inplace=True)\n",
    "df.rename(columns={'M01401': 'FAMILIA_MNT_RUIM'}, inplace=True)\n",
    "df.rename(columns={'E01602': 'SALARIO'}, inplace=True)\n",
    "df.rename(columns={'E017': 'HORAS'}, inplace=True)\n",
    "df.rename(columns={'D00901': 'ESCOLARIDADE'}, inplace=True)\n",
    "df.rename(columns={'A001': 'MORADIA'}, inplace=True)\n",
    "df.rename(columns={'P034': 'ATV_FISICA'}, inplace=True)\n",
    "df.rename(columns={'P027': 'ALCOOL'}, inplace=True)\n",
    "df.rename(columns={'P050': 'FUMA'}, inplace=True)\n",
    "df.rename(columns={'E001': 'TRABALHA'}, inplace=True)\n",
    "df.rename(columns={'Q092': 'DEPRESSAO'}, inplace=True)\n",
    "df.rename(columns={'Q11006': 'DOENCA_MENTAL'}, inplace=True)"
   ]
  },
  {
   "cell_type": "code",
   "execution_count": 14,
   "metadata": {},
   "outputs": [
    {
     "data": {
      "text/plain": [
       "Index(['SEXO', 'FAMILIA_MNT_RUIM', 'SALARIO', 'HORAS', 'ESCOLARIDADE',\n",
       "       'DEPRESSAO', 'MORADIA', 'DOENCA_MENTAL', 'ATV_FISICA', 'ALCOOL',\n",
       "       'NAO_TRAB_MTV_SAUDE', 'TRABALHA', 'FUMA', 'IMC', 'DOENCAS_CRONICAS',\n",
       "       'PENSAMENTOS_NEGATIVOS', 'ESTADO_SAUDE', 'ALIMENTOS_SAUDAVEIS',\n",
       "       'CARNES', 'ALIMENTOS_PREJUDICIAIS', 'PROCURA_MEDICA'],\n",
       "      dtype='object')"
      ]
     },
     "execution_count": 14,
     "metadata": {},
     "output_type": "execute_result"
    }
   ],
   "source": [
    "df.columns"
   ]
  },
  {
   "cell_type": "code",
   "execution_count": 15,
   "metadata": {},
   "outputs": [
    {
     "data": {
      "text/plain": [
       "(32080, 21)"
      ]
     },
     "execution_count": 15,
     "metadata": {},
     "output_type": "execute_result"
    }
   ],
   "source": [
    "df.shape"
   ]
  },
  {
   "cell_type": "markdown",
   "metadata": {},
   "source": [
    "## Reduzindo a cardinalidade das colunas"
   ]
  },
  {
   "cell_type": "code",
   "execution_count": 16,
   "metadata": {},
   "outputs": [],
   "source": [
    "#FUNÇÃO PARA RECEBER INTERVALOS\n",
    "def definir_bins(*args):\n",
    "    \n",
    "    return bins\n",
    "\n",
    "#FUNÇÃO PARA RECEBER OS VALORES DAS COLUNAS\n",
    "def setar_valores_da_lista(*args):\n",
    "    \n",
    "    return valores\n",
    "\n",
    "#FUNÇÃO PARA SUBSTITUIR OS REGISTROS DAS COLUNAS E DIMINUIR O TOTAL DO \"value_counts\"\n",
    "def processar_coluna(df, nome_coluna):\n",
    "    df[nome_coluna] = df[nome_coluna].astype(float) \n",
    "    bins = definir_bins()  \n",
    "    valores = setar_valores_da_lista()\n",
    "    df[nome_coluna] = pd.cut(df[nome_coluna], bins=bins, labels=valores) \n",
    "    return df\n",
    "\n",
    "\n"
   ]
  },
  {
   "cell_type": "code",
   "execution_count": 17,
   "metadata": {},
   "outputs": [
    {
     "name": "stdout",
     "output_type": "stream",
     "text": [
      "ESCOLARIDADE\n",
      "10    15417\n",
      "7      9071\n",
      "12     7592\n",
      "Name: count, dtype: int64\n"
     ]
    }
   ],
   "source": [
    "#Testando funções\n",
    "bins = [0, 9, 11, 15 ] #valores dos intervalors\n",
    "valores = [7, 10, 12] #novos valores das colunas\n",
    " \n",
    " #COLUNA ESCOLARIDADE\n",
    "#Chamando as funções\n",
    "processar_coluna(df, 'ESCOLARIDADE') \n",
    "definir_bins(bins)\n",
    "setar_valores_da_lista(valores)\n",
    "\n",
    "print(df['ESCOLARIDADE'].value_counts())\n"
   ]
  },
  {
   "cell_type": "code",
   "execution_count": 18,
   "metadata": {},
   "outputs": [
    {
     "name": "stdout",
     "output_type": "stream",
     "text": [
      "HORAS\n",
      "48    12199\n",
      "40    10292\n",
      "30     6394\n",
      "20     3195\n",
      "Name: count, dtype: int64\n"
     ]
    }
   ],
   "source": [
    "#Testando funções\n",
    "bins = [0, 21, 31, 41, 120 ] #valores dos intervalors\n",
    "valores = [20, 30, 40, 48] #novos valores das colunas\n",
    "\n",
    "#HORAS TRABALHADAS\n",
    "#Chamando as funções\n",
    "processar_coluna(df, 'HORAS') \n",
    "definir_bins(bins)\n",
    "setar_valores_da_lista(valores)\n",
    "\n",
    "print(df['HORAS'].value_counts())\n"
   ]
  },
  {
   "cell_type": "code",
   "execution_count": 19,
   "metadata": {},
   "outputs": [],
   "source": [
    "df.to_csv(\"base_dimensionalidade.csv\")"
   ]
  },
  {
   "cell_type": "code",
   "execution_count": 20,
   "metadata": {},
   "outputs": [
    {
     "data": {
      "text/plain": [
       "DOENCAS_CRONICAS\n",
       "2.0    22309\n",
       "1.0     9771\n",
       "Name: count, dtype: int64"
      ]
     },
     "execution_count": 20,
     "metadata": {},
     "output_type": "execute_result"
    }
   ],
   "source": [
    "df['DOENCAS_CRONICAS'].value_counts()"
   ]
  },
  {
   "cell_type": "code",
   "execution_count": null,
   "metadata": {},
   "outputs": [],
   "source": []
  }
 ],
 "metadata": {
  "kernelspec": {
   "display_name": "base",
   "language": "python",
   "name": "python3"
  },
  "language_info": {
   "codemirror_mode": {
    "name": "ipython",
    "version": 3
   },
   "file_extension": ".py",
   "mimetype": "text/x-python",
   "name": "python",
   "nbconvert_exporter": "python",
   "pygments_lexer": "ipython3",
   "version": "3.11.5"
  }
 },
 "nbformat": 4,
 "nbformat_minor": 2
}
